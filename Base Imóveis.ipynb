{
 "cells": [
  {
   "cell_type": "markdown",
   "id": "98ab37e4",
   "metadata": {},
   "source": [
    "### Objetivo: limpar uma base de dados imobiliários da Inglaterra"
   ]
  },
  {
   "cell_type": "markdown",
   "id": "26279388",
   "metadata": {},
   "source": [
    "##### 1 - Importar pacotes"
   ]
  },
  {
   "cell_type": "code",
   "execution_count": 54,
   "id": "d0c083a3",
   "metadata": {},
   "outputs": [],
   "source": [
    "import pandas as pd\n",
    "import numpy as np"
   ]
  },
  {
   "cell_type": "markdown",
   "id": "ec626678",
   "metadata": {},
   "source": [
    "#### 2 - Pegar a base de dados"
   ]
  },
  {
   "cell_type": "code",
   "execution_count": 55,
   "id": "f1e0d537",
   "metadata": {},
   "outputs": [],
   "source": [
    "df = pd.read_csv('https://raw.githubusercontent.com/OpenClassrooms-Student-Center/Supervised-Learning/master/cleaning.csv')"
   ]
  },
  {
   "cell_type": "code",
   "execution_count": 56,
   "id": "7643589a",
   "metadata": {
    "scrolled": false
   },
   "outputs": [
    {
     "data": {
      "text/html": [
       "<div>\n",
       "<style scoped>\n",
       "    .dataframe tbody tr th:only-of-type {\n",
       "        vertical-align: middle;\n",
       "    }\n",
       "\n",
       "    .dataframe tbody tr th {\n",
       "        vertical-align: top;\n",
       "    }\n",
       "\n",
       "    .dataframe thead th {\n",
       "        text-align: right;\n",
       "    }\n",
       "</style>\n",
       "<table border=\"1\" class=\"dataframe\">\n",
       "  <thead>\n",
       "    <tr style=\"text-align: right;\">\n",
       "      <th></th>\n",
       "      <th>location</th>\n",
       "      <th>date_of_sale</th>\n",
       "      <th>number_of_bedrooms</th>\n",
       "      <th>price</th>\n",
       "      <th>type</th>\n",
       "    </tr>\n",
       "  </thead>\n",
       "  <tbody>\n",
       "    <tr>\n",
       "      <th>0</th>\n",
       "      <td>Clapham</td>\n",
       "      <td>12/04/1999</td>\n",
       "      <td>1</td>\n",
       "      <td>£729,000</td>\n",
       "      <td>apartment</td>\n",
       "    </tr>\n",
       "    <tr>\n",
       "      <th>1</th>\n",
       "      <td>Ashford</td>\n",
       "      <td>05/08/2017</td>\n",
       "      <td>unknown</td>\n",
       "      <td>£699,000</td>\n",
       "      <td>semi-detached</td>\n",
       "    </tr>\n",
       "    <tr>\n",
       "      <th>2</th>\n",
       "      <td>Stratford-on-Avon</td>\n",
       "      <td>29/03/2012</td>\n",
       "      <td>3</td>\n",
       "      <td>NaN</td>\n",
       "      <td>detached</td>\n",
       "    </tr>\n",
       "    <tr>\n",
       "      <th>3</th>\n",
       "      <td>Canterbury</td>\n",
       "      <td>01/07/2009</td>\n",
       "      <td>2</td>\n",
       "      <td>£529,000</td>\n",
       "      <td>teraced</td>\n",
       "    </tr>\n",
       "    <tr>\n",
       "      <th>4</th>\n",
       "      <td>Camden</td>\n",
       "      <td>16/12/2001</td>\n",
       "      <td>1</td>\n",
       "      <td>£616,000</td>\n",
       "      <td>apartment</td>\n",
       "    </tr>\n",
       "    <tr>\n",
       "      <th>5</th>\n",
       "      <td>Rugby</td>\n",
       "      <td>01/03/2003</td>\n",
       "      <td>-</td>\n",
       "      <td>£247,000</td>\n",
       "      <td>detached</td>\n",
       "    </tr>\n",
       "    <tr>\n",
       "      <th>6</th>\n",
       "      <td>Hampstead</td>\n",
       "      <td>05/03/2016</td>\n",
       "      <td>2</td>\n",
       "      <td>£0</td>\n",
       "      <td>terraced</td>\n",
       "    </tr>\n",
       "    <tr>\n",
       "      <th>7</th>\n",
       "      <td>Clapham</td>\n",
       "      <td>05/07/2001</td>\n",
       "      <td>363</td>\n",
       "      <td>£543,000</td>\n",
       "      <td>apartment</td>\n",
       "    </tr>\n",
       "    <tr>\n",
       "      <th>8</th>\n",
       "      <td>Stratford-on-Avon</td>\n",
       "      <td>10th May 2010</td>\n",
       "      <td>3</td>\n",
       "      <td>£420,000</td>\n",
       "      <td>detached</td>\n",
       "    </tr>\n",
       "    <tr>\n",
       "      <th>9</th>\n",
       "      <td>Camden</td>\n",
       "      <td>16/12/2001</td>\n",
       "      <td>1</td>\n",
       "      <td>£616,000</td>\n",
       "      <td>apartment</td>\n",
       "    </tr>\n",
       "  </tbody>\n",
       "</table>\n",
       "</div>"
      ],
      "text/plain": [
       "            location   date_of_sale number_of_bedrooms     price  \\\n",
       "0            Clapham     12/04/1999                  1  £729,000   \n",
       "1            Ashford     05/08/2017            unknown  £699,000   \n",
       "2  Stratford-on-Avon     29/03/2012                  3       NaN   \n",
       "3         Canterbury     01/07/2009                  2  £529,000   \n",
       "4             Camden     16/12/2001                  1  £616,000   \n",
       "5              Rugby     01/03/2003                  -  £247,000   \n",
       "6          Hampstead     05/03/2016                  2        £0   \n",
       "7            Clapham     05/07/2001                363  £543,000   \n",
       "8  Stratford-on-Avon  10th May 2010                  3  £420,000   \n",
       "9             Camden     16/12/2001                  1  £616,000   \n",
       "\n",
       "            type  \n",
       "0      apartment  \n",
       "1  semi-detached  \n",
       "2       detached  \n",
       "3        teraced  \n",
       "4      apartment  \n",
       "5       detached  \n",
       "6       terraced  \n",
       "7      apartment  \n",
       "8       detached  \n",
       "9      apartment  "
      ]
     },
     "execution_count": 56,
     "metadata": {},
     "output_type": "execute_result"
    }
   ],
   "source": [
    "df"
   ]
  },
  {
   "cell_type": "markdown",
   "id": "cfc29228",
   "metadata": {},
   "source": [
    "#### 3 - Ver os data types"
   ]
  },
  {
   "cell_type": "code",
   "execution_count": 57,
   "id": "99c3676e",
   "metadata": {
    "scrolled": true
   },
   "outputs": [
    {
     "name": "stdout",
     "output_type": "stream",
     "text": [
      "<class 'pandas.core.frame.DataFrame'>\n",
      "RangeIndex: 10 entries, 0 to 9\n",
      "Data columns (total 5 columns):\n",
      " #   Column              Non-Null Count  Dtype \n",
      "---  ------              --------------  ----- \n",
      " 0   location            10 non-null     object\n",
      " 1   date_of_sale        10 non-null     object\n",
      " 2   number_of_bedrooms  10 non-null     object\n",
      " 3   price               9 non-null      object\n",
      " 4   type                10 non-null     object\n",
      "dtypes: object(5)\n",
      "memory usage: 528.0+ bytes\n"
     ]
    }
   ],
   "source": [
    "df.info()"
   ]
  },
  {
   "cell_type": "markdown",
   "id": "a29b260a",
   "metadata": {},
   "source": [
    "#### 4 - Remover linhas duplicadas"
   ]
  },
  {
   "cell_type": "code",
   "execution_count": 58,
   "id": "fc8dbdb2",
   "metadata": {},
   "outputs": [
    {
     "data": {
      "text/html": [
       "<div>\n",
       "<style scoped>\n",
       "    .dataframe tbody tr th:only-of-type {\n",
       "        vertical-align: middle;\n",
       "    }\n",
       "\n",
       "    .dataframe tbody tr th {\n",
       "        vertical-align: top;\n",
       "    }\n",
       "\n",
       "    .dataframe thead th {\n",
       "        text-align: right;\n",
       "    }\n",
       "</style>\n",
       "<table border=\"1\" class=\"dataframe\">\n",
       "  <thead>\n",
       "    <tr style=\"text-align: right;\">\n",
       "      <th></th>\n",
       "      <th>location</th>\n",
       "      <th>date_of_sale</th>\n",
       "      <th>number_of_bedrooms</th>\n",
       "      <th>price</th>\n",
       "      <th>type</th>\n",
       "    </tr>\n",
       "  </thead>\n",
       "  <tbody>\n",
       "    <tr>\n",
       "      <th>0</th>\n",
       "      <td>Clapham</td>\n",
       "      <td>12/04/1999</td>\n",
       "      <td>1</td>\n",
       "      <td>£729,000</td>\n",
       "      <td>apartment</td>\n",
       "    </tr>\n",
       "    <tr>\n",
       "      <th>1</th>\n",
       "      <td>Ashford</td>\n",
       "      <td>05/08/2017</td>\n",
       "      <td>unknown</td>\n",
       "      <td>£699,000</td>\n",
       "      <td>semi-detached</td>\n",
       "    </tr>\n",
       "    <tr>\n",
       "      <th>2</th>\n",
       "      <td>Stratford-on-Avon</td>\n",
       "      <td>29/03/2012</td>\n",
       "      <td>3</td>\n",
       "      <td>NaN</td>\n",
       "      <td>detached</td>\n",
       "    </tr>\n",
       "    <tr>\n",
       "      <th>3</th>\n",
       "      <td>Canterbury</td>\n",
       "      <td>01/07/2009</td>\n",
       "      <td>2</td>\n",
       "      <td>£529,000</td>\n",
       "      <td>teraced</td>\n",
       "    </tr>\n",
       "    <tr>\n",
       "      <th>4</th>\n",
       "      <td>Camden</td>\n",
       "      <td>16/12/2001</td>\n",
       "      <td>1</td>\n",
       "      <td>£616,000</td>\n",
       "      <td>apartment</td>\n",
       "    </tr>\n",
       "    <tr>\n",
       "      <th>5</th>\n",
       "      <td>Rugby</td>\n",
       "      <td>01/03/2003</td>\n",
       "      <td>-</td>\n",
       "      <td>£247,000</td>\n",
       "      <td>detached</td>\n",
       "    </tr>\n",
       "    <tr>\n",
       "      <th>6</th>\n",
       "      <td>Hampstead</td>\n",
       "      <td>05/03/2016</td>\n",
       "      <td>2</td>\n",
       "      <td>£0</td>\n",
       "      <td>terraced</td>\n",
       "    </tr>\n",
       "    <tr>\n",
       "      <th>7</th>\n",
       "      <td>Clapham</td>\n",
       "      <td>05/07/2001</td>\n",
       "      <td>363</td>\n",
       "      <td>£543,000</td>\n",
       "      <td>apartment</td>\n",
       "    </tr>\n",
       "    <tr>\n",
       "      <th>8</th>\n",
       "      <td>Stratford-on-Avon</td>\n",
       "      <td>10th May 2010</td>\n",
       "      <td>3</td>\n",
       "      <td>£420,000</td>\n",
       "      <td>detached</td>\n",
       "    </tr>\n",
       "  </tbody>\n",
       "</table>\n",
       "</div>"
      ],
      "text/plain": [
       "            location   date_of_sale number_of_bedrooms     price  \\\n",
       "0            Clapham     12/04/1999                  1  £729,000   \n",
       "1            Ashford     05/08/2017            unknown  £699,000   \n",
       "2  Stratford-on-Avon     29/03/2012                  3       NaN   \n",
       "3         Canterbury     01/07/2009                  2  £529,000   \n",
       "4             Camden     16/12/2001                  1  £616,000   \n",
       "5              Rugby     01/03/2003                  -  £247,000   \n",
       "6          Hampstead     05/03/2016                  2        £0   \n",
       "7            Clapham     05/07/2001                363  £543,000   \n",
       "8  Stratford-on-Avon  10th May 2010                  3  £420,000   \n",
       "\n",
       "            type  \n",
       "0      apartment  \n",
       "1  semi-detached  \n",
       "2       detached  \n",
       "3        teraced  \n",
       "4      apartment  \n",
       "5       detached  \n",
       "6       terraced  \n",
       "7      apartment  \n",
       "8       detached  "
      ]
     },
     "execution_count": 58,
     "metadata": {},
     "output_type": "execute_result"
    }
   ],
   "source": [
    "    # Pois é improvável que duas casas sejam vendidas no mesmo dia, na mesma locação e no mesmo preço\n",
    "\n",
    "df.drop_duplicates()"
   ]
  },
  {
   "cell_type": "markdown",
   "id": "fd2e18fe",
   "metadata": {},
   "source": [
    "#### 5 - Coluna type: corrigir a palavra terrace"
   ]
  },
  {
   "cell_type": "code",
   "execution_count": 59,
   "id": "f4d0d9bc",
   "metadata": {},
   "outputs": [
    {
     "data": {
      "text/plain": [
       "array(['apartment', 'semi-detached', 'detached', 'terrace'], dtype=object)"
      ]
     },
     "execution_count": 59,
     "metadata": {},
     "output_type": "execute_result"
    }
   ],
   "source": [
    "df.type = df.type.replace('teraced','terrace')\n",
    "df.type = df.type.replace('terraced','terrace')\n",
    "df.type.unique()"
   ]
  },
  {
   "cell_type": "markdown",
   "id": "eda5701d",
   "metadata": {},
   "source": [
    "#### 6 - Coluna number_of_bedrooms: trocar valores não numéricos para nan"
   ]
  },
  {
   "cell_type": "code",
   "execution_count": 60,
   "id": "993923e7",
   "metadata": {},
   "outputs": [],
   "source": [
    "    # Obs.: como a coluna era objeto (string), usei series.string.isnumeric()\n",
    "\n",
    "not_bedroom_number = df[~df['number_of_bedrooms'].str.isnumeric()] # É um data frame que traz o resultado diferente (~) da função str.isnumeric()\n",
    "not_bedroom_number = not_bedroom_number['number_of_bedrooms'].unique() # Pegar os valores únicos desse data frame\n",
    "\n",
    "df['number_of_bedrooms'] = df['number_of_bedrooms'].replace(not_bedroom_number, np.nan) # Substituir os valores not_bedroom_number por np.nan"
   ]
  },
  {
   "cell_type": "markdown",
   "id": "ed880e56",
   "metadata": {},
   "source": [
    "#### 7 - Coluna number_of_bedrooms: transformar a coluna em int, para poder filtrar os outliers (casas com mais de 30 quartos) e depois fazer a mean imputation"
   ]
  },
  {
   "cell_type": "code",
   "execution_count": 61,
   "id": "ac647fef",
   "metadata": {
    "scrolled": true
   },
   "outputs": [
    {
     "name": "stdout",
     "output_type": "stream",
     "text": [
      "<class 'pandas.core.frame.DataFrame'>\n",
      "RangeIndex: 10 entries, 0 to 9\n",
      "Data columns (total 5 columns):\n",
      " #   Column              Non-Null Count  Dtype \n",
      "---  ------              --------------  ----- \n",
      " 0   location            10 non-null     object\n",
      " 1   date_of_sale        10 non-null     object\n",
      " 2   number_of_bedrooms  8 non-null      Int64 \n",
      " 3   price               9 non-null      object\n",
      " 4   type                10 non-null     object\n",
      "dtypes: Int64(1), object(4)\n",
      "memory usage: 538.0+ bytes\n"
     ]
    }
   ],
   "source": [
    "    # Obs.: If ‘coerce’, then invalid parsing will be set as NaN.\n",
    "\n",
    "df['number_of_bedrooms'] = pd.to_numeric(df['number_of_bedrooms'], errors='coerce')\n",
    "df['number_of_bedrooms'] = df['number_of_bedrooms'].astype('Int64')\n",
    "df.info()"
   ]
  },
  {
   "cell_type": "markdown",
   "id": "f19573e7",
   "metadata": {},
   "source": [
    "#### 8 -  Coluna number_of_bedrooms: trocar os outliers (casas com mais de 30 quartos) para nan"
   ]
  },
  {
   "cell_type": "code",
   "execution_count": 62,
   "id": "9602ef04",
   "metadata": {},
   "outputs": [],
   "source": [
    "    # Pegar a linha com o número de quartos maior que 30 (outliers)\n",
    "outlier_bedrooms = df[df['number_of_bedrooms'] > 30]['number_of_bedrooms'].unique() # Filtrar um data frame só com mais de 30 quartos, e pegar a coluna number_of_bedrooms\n",
    "                                                                                    # Colocar o unique, porque vira um array (sem o unique é uma series, e o replace não funciona)\n",
    "\n",
    "    # Substituir o outlier por NaN, para futuramente virar uma mean imput\n",
    "df['number_of_bedrooms'] = df['number_of_bedrooms'].replace(outlier_bedrooms,np.nan)"
   ]
  },
  {
   "cell_type": "code",
   "execution_count": 63,
   "id": "6c344226",
   "metadata": {},
   "outputs": [
    {
     "data": {
      "text/html": [
       "<div>\n",
       "<style scoped>\n",
       "    .dataframe tbody tr th:only-of-type {\n",
       "        vertical-align: middle;\n",
       "    }\n",
       "\n",
       "    .dataframe tbody tr th {\n",
       "        vertical-align: top;\n",
       "    }\n",
       "\n",
       "    .dataframe thead th {\n",
       "        text-align: right;\n",
       "    }\n",
       "</style>\n",
       "<table border=\"1\" class=\"dataframe\">\n",
       "  <thead>\n",
       "    <tr style=\"text-align: right;\">\n",
       "      <th></th>\n",
       "      <th>location</th>\n",
       "      <th>date_of_sale</th>\n",
       "      <th>number_of_bedrooms</th>\n",
       "      <th>price</th>\n",
       "      <th>type</th>\n",
       "    </tr>\n",
       "  </thead>\n",
       "  <tbody>\n",
       "    <tr>\n",
       "      <th>0</th>\n",
       "      <td>Clapham</td>\n",
       "      <td>12/04/1999</td>\n",
       "      <td>1</td>\n",
       "      <td>£729,000</td>\n",
       "      <td>apartment</td>\n",
       "    </tr>\n",
       "    <tr>\n",
       "      <th>1</th>\n",
       "      <td>Ashford</td>\n",
       "      <td>05/08/2017</td>\n",
       "      <td>&lt;NA&gt;</td>\n",
       "      <td>£699,000</td>\n",
       "      <td>semi-detached</td>\n",
       "    </tr>\n",
       "    <tr>\n",
       "      <th>2</th>\n",
       "      <td>Stratford-on-Avon</td>\n",
       "      <td>29/03/2012</td>\n",
       "      <td>3</td>\n",
       "      <td>NaN</td>\n",
       "      <td>detached</td>\n",
       "    </tr>\n",
       "    <tr>\n",
       "      <th>3</th>\n",
       "      <td>Canterbury</td>\n",
       "      <td>01/07/2009</td>\n",
       "      <td>2</td>\n",
       "      <td>£529,000</td>\n",
       "      <td>terrace</td>\n",
       "    </tr>\n",
       "    <tr>\n",
       "      <th>4</th>\n",
       "      <td>Camden</td>\n",
       "      <td>16/12/2001</td>\n",
       "      <td>1</td>\n",
       "      <td>£616,000</td>\n",
       "      <td>apartment</td>\n",
       "    </tr>\n",
       "    <tr>\n",
       "      <th>5</th>\n",
       "      <td>Rugby</td>\n",
       "      <td>01/03/2003</td>\n",
       "      <td>&lt;NA&gt;</td>\n",
       "      <td>£247,000</td>\n",
       "      <td>detached</td>\n",
       "    </tr>\n",
       "    <tr>\n",
       "      <th>6</th>\n",
       "      <td>Hampstead</td>\n",
       "      <td>05/03/2016</td>\n",
       "      <td>2</td>\n",
       "      <td>£0</td>\n",
       "      <td>terrace</td>\n",
       "    </tr>\n",
       "    <tr>\n",
       "      <th>7</th>\n",
       "      <td>Clapham</td>\n",
       "      <td>05/07/2001</td>\n",
       "      <td>&lt;NA&gt;</td>\n",
       "      <td>£543,000</td>\n",
       "      <td>apartment</td>\n",
       "    </tr>\n",
       "    <tr>\n",
       "      <th>8</th>\n",
       "      <td>Stratford-on-Avon</td>\n",
       "      <td>10th May 2010</td>\n",
       "      <td>3</td>\n",
       "      <td>£420,000</td>\n",
       "      <td>detached</td>\n",
       "    </tr>\n",
       "    <tr>\n",
       "      <th>9</th>\n",
       "      <td>Camden</td>\n",
       "      <td>16/12/2001</td>\n",
       "      <td>1</td>\n",
       "      <td>£616,000</td>\n",
       "      <td>apartment</td>\n",
       "    </tr>\n",
       "  </tbody>\n",
       "</table>\n",
       "</div>"
      ],
      "text/plain": [
       "            location   date_of_sale  number_of_bedrooms     price  \\\n",
       "0            Clapham     12/04/1999                   1  £729,000   \n",
       "1            Ashford     05/08/2017                <NA>  £699,000   \n",
       "2  Stratford-on-Avon     29/03/2012                   3       NaN   \n",
       "3         Canterbury     01/07/2009                   2  £529,000   \n",
       "4             Camden     16/12/2001                   1  £616,000   \n",
       "5              Rugby     01/03/2003                <NA>  £247,000   \n",
       "6          Hampstead     05/03/2016                   2        £0   \n",
       "7            Clapham     05/07/2001                <NA>  £543,000   \n",
       "8  Stratford-on-Avon  10th May 2010                   3  £420,000   \n",
       "9             Camden     16/12/2001                   1  £616,000   \n",
       "\n",
       "            type  \n",
       "0      apartment  \n",
       "1  semi-detached  \n",
       "2       detached  \n",
       "3        terrace  \n",
       "4      apartment  \n",
       "5       detached  \n",
       "6        terrace  \n",
       "7      apartment  \n",
       "8       detached  \n",
       "9      apartment  "
      ]
     },
     "execution_count": 63,
     "metadata": {},
     "output_type": "execute_result"
    }
   ],
   "source": [
    "df"
   ]
  },
  {
   "cell_type": "markdown",
   "id": "25078e36",
   "metadata": {},
   "source": [
    "#### 9 - Coluna number_of_bedrooms: pegar a média"
   ]
  },
  {
   "cell_type": "code",
   "execution_count": 64,
   "id": "0779edb6",
   "metadata": {},
   "outputs": [
    {
     "data": {
      "text/plain": [
       "2"
      ]
     },
     "execution_count": 64,
     "metadata": {},
     "output_type": "execute_result"
    }
   ],
   "source": [
    "    # Pegar o data frame sem number_of_bedrooms nulos ou maiores que 30 (outliers)\n",
    "df1 = df[~((df['number_of_bedrooms'].isna())|(df['number_of_bedrooms']>30))]\n",
    "\n",
    "    # Pegar a média do number_of_bedrooms e arredondar (pois número de quartos é um valor inteiro)\n",
    "mean_bedrooms = df1.number_of_bedrooms.mean()\n",
    "mean_bedrooms = int(round(mean_bedrooms,0))\n",
    "mean_bedrooms"
   ]
  },
  {
   "cell_type": "markdown",
   "id": "51a554b9",
   "metadata": {},
   "source": [
    "#### 10 - Coluna number_of_bedrooms: fazer o mean imputation dos NaN"
   ]
  },
  {
   "cell_type": "code",
   "execution_count": 65,
   "id": "ace272d0",
   "metadata": {},
   "outputs": [
    {
     "data": {
      "text/html": [
       "<div>\n",
       "<style scoped>\n",
       "    .dataframe tbody tr th:only-of-type {\n",
       "        vertical-align: middle;\n",
       "    }\n",
       "\n",
       "    .dataframe tbody tr th {\n",
       "        vertical-align: top;\n",
       "    }\n",
       "\n",
       "    .dataframe thead th {\n",
       "        text-align: right;\n",
       "    }\n",
       "</style>\n",
       "<table border=\"1\" class=\"dataframe\">\n",
       "  <thead>\n",
       "    <tr style=\"text-align: right;\">\n",
       "      <th></th>\n",
       "      <th>location</th>\n",
       "      <th>date_of_sale</th>\n",
       "      <th>number_of_bedrooms</th>\n",
       "      <th>price</th>\n",
       "      <th>type</th>\n",
       "    </tr>\n",
       "  </thead>\n",
       "  <tbody>\n",
       "    <tr>\n",
       "      <th>0</th>\n",
       "      <td>Clapham</td>\n",
       "      <td>12/04/1999</td>\n",
       "      <td>1</td>\n",
       "      <td>£729,000</td>\n",
       "      <td>apartment</td>\n",
       "    </tr>\n",
       "    <tr>\n",
       "      <th>1</th>\n",
       "      <td>Ashford</td>\n",
       "      <td>05/08/2017</td>\n",
       "      <td>2</td>\n",
       "      <td>£699,000</td>\n",
       "      <td>semi-detached</td>\n",
       "    </tr>\n",
       "    <tr>\n",
       "      <th>2</th>\n",
       "      <td>Stratford-on-Avon</td>\n",
       "      <td>29/03/2012</td>\n",
       "      <td>3</td>\n",
       "      <td>NaN</td>\n",
       "      <td>detached</td>\n",
       "    </tr>\n",
       "    <tr>\n",
       "      <th>3</th>\n",
       "      <td>Canterbury</td>\n",
       "      <td>01/07/2009</td>\n",
       "      <td>2</td>\n",
       "      <td>£529,000</td>\n",
       "      <td>terrace</td>\n",
       "    </tr>\n",
       "    <tr>\n",
       "      <th>4</th>\n",
       "      <td>Camden</td>\n",
       "      <td>16/12/2001</td>\n",
       "      <td>1</td>\n",
       "      <td>£616,000</td>\n",
       "      <td>apartment</td>\n",
       "    </tr>\n",
       "    <tr>\n",
       "      <th>5</th>\n",
       "      <td>Rugby</td>\n",
       "      <td>01/03/2003</td>\n",
       "      <td>2</td>\n",
       "      <td>£247,000</td>\n",
       "      <td>detached</td>\n",
       "    </tr>\n",
       "    <tr>\n",
       "      <th>6</th>\n",
       "      <td>Hampstead</td>\n",
       "      <td>05/03/2016</td>\n",
       "      <td>2</td>\n",
       "      <td>£0</td>\n",
       "      <td>terrace</td>\n",
       "    </tr>\n",
       "    <tr>\n",
       "      <th>7</th>\n",
       "      <td>Clapham</td>\n",
       "      <td>05/07/2001</td>\n",
       "      <td>2</td>\n",
       "      <td>£543,000</td>\n",
       "      <td>apartment</td>\n",
       "    </tr>\n",
       "    <tr>\n",
       "      <th>8</th>\n",
       "      <td>Stratford-on-Avon</td>\n",
       "      <td>10th May 2010</td>\n",
       "      <td>3</td>\n",
       "      <td>£420,000</td>\n",
       "      <td>detached</td>\n",
       "    </tr>\n",
       "    <tr>\n",
       "      <th>9</th>\n",
       "      <td>Camden</td>\n",
       "      <td>16/12/2001</td>\n",
       "      <td>1</td>\n",
       "      <td>£616,000</td>\n",
       "      <td>apartment</td>\n",
       "    </tr>\n",
       "  </tbody>\n",
       "</table>\n",
       "</div>"
      ],
      "text/plain": [
       "            location   date_of_sale  number_of_bedrooms     price  \\\n",
       "0            Clapham     12/04/1999                   1  £729,000   \n",
       "1            Ashford     05/08/2017                   2  £699,000   \n",
       "2  Stratford-on-Avon     29/03/2012                   3       NaN   \n",
       "3         Canterbury     01/07/2009                   2  £529,000   \n",
       "4             Camden     16/12/2001                   1  £616,000   \n",
       "5              Rugby     01/03/2003                   2  £247,000   \n",
       "6          Hampstead     05/03/2016                   2        £0   \n",
       "7            Clapham     05/07/2001                   2  £543,000   \n",
       "8  Stratford-on-Avon  10th May 2010                   3  £420,000   \n",
       "9             Camden     16/12/2001                   1  £616,000   \n",
       "\n",
       "            type  \n",
       "0      apartment  \n",
       "1  semi-detached  \n",
       "2       detached  \n",
       "3        terrace  \n",
       "4      apartment  \n",
       "5       detached  \n",
       "6        terrace  \n",
       "7      apartment  \n",
       "8       detached  \n",
       "9      apartment  "
      ]
     },
     "execution_count": 65,
     "metadata": {},
     "output_type": "execute_result"
    }
   ],
   "source": [
    "df['number_of_bedrooms'] = df['number_of_bedrooms'].replace(np.nan, mean_bedrooms)\n",
    "df"
   ]
  },
  {
   "cell_type": "markdown",
   "id": "c7c9c1d0",
   "metadata": {},
   "source": [
    "#### 11 - Coluna price: transformar o outlier (preço 0) em NaN, para futuramente fazer o mean imputation"
   ]
  },
  {
   "cell_type": "code",
   "execution_count": 66,
   "id": "8bb45773",
   "metadata": {},
   "outputs": [
    {
     "data": {
      "text/plain": [
       "0    £729,000\n",
       "1    £699,000\n",
       "2         NaN\n",
       "3    £529,000\n",
       "4    £616,000\n",
       "5    £247,000\n",
       "6         NaN\n",
       "7    £543,000\n",
       "8    £420,000\n",
       "9    £616,000\n",
       "Name: price, dtype: object"
      ]
     },
     "execution_count": 66,
     "metadata": {},
     "output_type": "execute_result"
    }
   ],
   "source": [
    "df['price'] = df['price'].replace('£0',np.nan)\n",
    "df['price']"
   ]
  },
  {
   "cell_type": "markdown",
   "id": "5a280492",
   "metadata": {},
   "source": [
    "#### 12 - Coluna price: trocar o NaN para um texto, para as etapas futuras"
   ]
  },
  {
   "cell_type": "code",
   "execution_count": 67,
   "id": "be05ee2f",
   "metadata": {},
   "outputs": [],
   "source": [
    "df['price'] = df['price'].fillna('fazer mean imput')"
   ]
  },
  {
   "cell_type": "markdown",
   "id": "599e5d03",
   "metadata": {},
   "source": [
    "#### 13 - Coluna price: replace ',' por ''; porque o python entende que a vírgula é um separador de números (e não um separador de milhares)"
   ]
  },
  {
   "cell_type": "code",
   "execution_count": 68,
   "id": "dee20307",
   "metadata": {},
   "outputs": [],
   "source": [
    "df['price'] = df['price'].apply(lambda x: x.replace(',',''))"
   ]
  },
  {
   "cell_type": "markdown",
   "id": "c5f35b05",
   "metadata": {},
   "source": [
    "#### 14 - Coluna price: remover o primeiro caractere"
   ]
  },
  {
   "cell_type": "code",
   "execution_count": 69,
   "id": "2a0a0eee",
   "metadata": {},
   "outputs": [],
   "source": [
    "df['price'] = df['price'].apply(lambda x: x[1:])"
   ]
  },
  {
   "cell_type": "markdown",
   "id": "d1ffaaf0",
   "metadata": {},
   "source": [
    "#### 15 - Coluna price: transformar a coluna em float, para depois fazer a mean imputation"
   ]
  },
  {
   "cell_type": "code",
   "execution_count": 70,
   "id": "fd06d3b4",
   "metadata": {},
   "outputs": [
    {
     "name": "stdout",
     "output_type": "stream",
     "text": [
      "<class 'pandas.core.frame.DataFrame'>\n",
      "RangeIndex: 10 entries, 0 to 9\n",
      "Data columns (total 5 columns):\n",
      " #   Column              Non-Null Count  Dtype  \n",
      "---  ------              --------------  -----  \n",
      " 0   location            10 non-null     object \n",
      " 1   date_of_sale        10 non-null     object \n",
      " 2   number_of_bedrooms  10 non-null     Int64  \n",
      " 3   price               8 non-null      Float64\n",
      " 4   type                10 non-null     object \n",
      "dtypes: Float64(1), Int64(1), object(3)\n",
      "memory usage: 548.0+ bytes\n"
     ]
    }
   ],
   "source": [
    "    # Obs.: If ‘coerce’, then invalid parsing will be set as NaN.\n",
    "\n",
    "df['price'] = pd.to_numeric(df['price'], errors='coerce').astype('Float64')\n",
    "df.info()"
   ]
  },
  {
   "cell_type": "markdown",
   "id": "7860e427",
   "metadata": {},
   "source": [
    "#### 16 - Coluna price: calcular a média"
   ]
  },
  {
   "cell_type": "code",
   "execution_count": 71,
   "id": "75b41cb1",
   "metadata": {},
   "outputs": [
    {
     "data": {
      "text/plain": [
       "549875.0"
      ]
     },
     "execution_count": 71,
     "metadata": {},
     "output_type": "execute_result"
    }
   ],
   "source": [
    "    # Pegar um data frame sem valores de price nulos\n",
    "df2 = df[~df['price'].isna()]\n",
    "\n",
    "    # Pegar a média de price\n",
    "mean_price = df2['price'].mean()\n",
    "mean_price"
   ]
  },
  {
   "cell_type": "markdown",
   "id": "0077cd34",
   "metadata": {},
   "source": [
    "#### 17 - Coluna price: substituir NaN com mean_price"
   ]
  },
  {
   "cell_type": "code",
   "execution_count": 72,
   "id": "2573bf74",
   "metadata": {},
   "outputs": [],
   "source": [
    "df['price'] = df['price'].replace(np.nan, mean_price)"
   ]
  },
  {
   "cell_type": "code",
   "execution_count": 73,
   "id": "a5a72a6a",
   "metadata": {},
   "outputs": [
    {
     "data": {
      "text/html": [
       "<div>\n",
       "<style scoped>\n",
       "    .dataframe tbody tr th:only-of-type {\n",
       "        vertical-align: middle;\n",
       "    }\n",
       "\n",
       "    .dataframe tbody tr th {\n",
       "        vertical-align: top;\n",
       "    }\n",
       "\n",
       "    .dataframe thead th {\n",
       "        text-align: right;\n",
       "    }\n",
       "</style>\n",
       "<table border=\"1\" class=\"dataframe\">\n",
       "  <thead>\n",
       "    <tr style=\"text-align: right;\">\n",
       "      <th></th>\n",
       "      <th>location</th>\n",
       "      <th>date_of_sale</th>\n",
       "      <th>number_of_bedrooms</th>\n",
       "      <th>price</th>\n",
       "      <th>type</th>\n",
       "    </tr>\n",
       "  </thead>\n",
       "  <tbody>\n",
       "    <tr>\n",
       "      <th>0</th>\n",
       "      <td>Clapham</td>\n",
       "      <td>12/04/1999</td>\n",
       "      <td>1</td>\n",
       "      <td>729000.0</td>\n",
       "      <td>apartment</td>\n",
       "    </tr>\n",
       "    <tr>\n",
       "      <th>1</th>\n",
       "      <td>Ashford</td>\n",
       "      <td>05/08/2017</td>\n",
       "      <td>2</td>\n",
       "      <td>699000.0</td>\n",
       "      <td>semi-detached</td>\n",
       "    </tr>\n",
       "    <tr>\n",
       "      <th>2</th>\n",
       "      <td>Stratford-on-Avon</td>\n",
       "      <td>29/03/2012</td>\n",
       "      <td>3</td>\n",
       "      <td>549875.0</td>\n",
       "      <td>detached</td>\n",
       "    </tr>\n",
       "    <tr>\n",
       "      <th>3</th>\n",
       "      <td>Canterbury</td>\n",
       "      <td>01/07/2009</td>\n",
       "      <td>2</td>\n",
       "      <td>529000.0</td>\n",
       "      <td>terrace</td>\n",
       "    </tr>\n",
       "    <tr>\n",
       "      <th>4</th>\n",
       "      <td>Camden</td>\n",
       "      <td>16/12/2001</td>\n",
       "      <td>1</td>\n",
       "      <td>616000.0</td>\n",
       "      <td>apartment</td>\n",
       "    </tr>\n",
       "    <tr>\n",
       "      <th>5</th>\n",
       "      <td>Rugby</td>\n",
       "      <td>01/03/2003</td>\n",
       "      <td>2</td>\n",
       "      <td>247000.0</td>\n",
       "      <td>detached</td>\n",
       "    </tr>\n",
       "    <tr>\n",
       "      <th>6</th>\n",
       "      <td>Hampstead</td>\n",
       "      <td>05/03/2016</td>\n",
       "      <td>2</td>\n",
       "      <td>549875.0</td>\n",
       "      <td>terrace</td>\n",
       "    </tr>\n",
       "    <tr>\n",
       "      <th>7</th>\n",
       "      <td>Clapham</td>\n",
       "      <td>05/07/2001</td>\n",
       "      <td>2</td>\n",
       "      <td>543000.0</td>\n",
       "      <td>apartment</td>\n",
       "    </tr>\n",
       "    <tr>\n",
       "      <th>8</th>\n",
       "      <td>Stratford-on-Avon</td>\n",
       "      <td>10th May 2010</td>\n",
       "      <td>3</td>\n",
       "      <td>420000.0</td>\n",
       "      <td>detached</td>\n",
       "    </tr>\n",
       "    <tr>\n",
       "      <th>9</th>\n",
       "      <td>Camden</td>\n",
       "      <td>16/12/2001</td>\n",
       "      <td>1</td>\n",
       "      <td>616000.0</td>\n",
       "      <td>apartment</td>\n",
       "    </tr>\n",
       "  </tbody>\n",
       "</table>\n",
       "</div>"
      ],
      "text/plain": [
       "            location   date_of_sale  number_of_bedrooms     price  \\\n",
       "0            Clapham     12/04/1999                   1  729000.0   \n",
       "1            Ashford     05/08/2017                   2  699000.0   \n",
       "2  Stratford-on-Avon     29/03/2012                   3  549875.0   \n",
       "3         Canterbury     01/07/2009                   2  529000.0   \n",
       "4             Camden     16/12/2001                   1  616000.0   \n",
       "5              Rugby     01/03/2003                   2  247000.0   \n",
       "6          Hampstead     05/03/2016                   2  549875.0   \n",
       "7            Clapham     05/07/2001                   2  543000.0   \n",
       "8  Stratford-on-Avon  10th May 2010                   3  420000.0   \n",
       "9             Camden     16/12/2001                   1  616000.0   \n",
       "\n",
       "            type  \n",
       "0      apartment  \n",
       "1  semi-detached  \n",
       "2       detached  \n",
       "3        terrace  \n",
       "4      apartment  \n",
       "5       detached  \n",
       "6        terrace  \n",
       "7      apartment  \n",
       "8       detached  \n",
       "9      apartment  "
      ]
     },
     "execution_count": 73,
     "metadata": {},
     "output_type": "execute_result"
    }
   ],
   "source": [
    "df"
   ]
  },
  {
   "cell_type": "markdown",
   "id": "3fb6a14b",
   "metadata": {},
   "source": [
    "#### 18 - Coluna price: renomear coluna"
   ]
  },
  {
   "cell_type": "code",
   "execution_count": 74,
   "id": "e0946205",
   "metadata": {},
   "outputs": [],
   "source": [
    "df = df.rename(columns = {'price':'price_euros'})"
   ]
  },
  {
   "cell_type": "markdown",
   "id": "b02578ac",
   "metadata": {},
   "source": [
    "#### 19 - Coluna date_of_sale: formatar a coluna"
   ]
  },
  {
   "cell_type": "code",
   "execution_count": 75,
   "id": "7be9c205",
   "metadata": {},
   "outputs": [
    {
     "name": "stderr",
     "output_type": "stream",
     "text": [
      "C:\\Users\\samar\\AppData\\Local\\Temp\\ipykernel_18668\\3317907746.py:1: UserWarning: Parsing '29/03/2012' in DD/MM/YYYY format. Provide format or specify infer_datetime_format=True for consistent parsing.\n",
      "  df['date_of_sale'] = pd.to_datetime(df['date_of_sale'], errors = 'coerce')\n",
      "C:\\Users\\samar\\AppData\\Local\\Temp\\ipykernel_18668\\3317907746.py:1: UserWarning: Parsing '16/12/2001' in DD/MM/YYYY format. Provide format or specify infer_datetime_format=True for consistent parsing.\n",
      "  df['date_of_sale'] = pd.to_datetime(df['date_of_sale'], errors = 'coerce')\n"
     ]
    }
   ],
   "source": [
    "df['date_of_sale'] = pd.to_datetime(df['date_of_sale'], errors = 'coerce')"
   ]
  },
  {
   "cell_type": "markdown",
   "id": "9d22b46f",
   "metadata": {},
   "source": [
    "#### 20 - Data Frame formatado"
   ]
  },
  {
   "cell_type": "code",
   "execution_count": 76,
   "id": "ae85cfd8",
   "metadata": {},
   "outputs": [
    {
     "data": {
      "text/html": [
       "<div>\n",
       "<style scoped>\n",
       "    .dataframe tbody tr th:only-of-type {\n",
       "        vertical-align: middle;\n",
       "    }\n",
       "\n",
       "    .dataframe tbody tr th {\n",
       "        vertical-align: top;\n",
       "    }\n",
       "\n",
       "    .dataframe thead th {\n",
       "        text-align: right;\n",
       "    }\n",
       "</style>\n",
       "<table border=\"1\" class=\"dataframe\">\n",
       "  <thead>\n",
       "    <tr style=\"text-align: right;\">\n",
       "      <th></th>\n",
       "      <th>location</th>\n",
       "      <th>date_of_sale</th>\n",
       "      <th>number_of_bedrooms</th>\n",
       "      <th>price_euros</th>\n",
       "      <th>type</th>\n",
       "    </tr>\n",
       "  </thead>\n",
       "  <tbody>\n",
       "    <tr>\n",
       "      <th>0</th>\n",
       "      <td>Clapham</td>\n",
       "      <td>1999-12-04</td>\n",
       "      <td>1</td>\n",
       "      <td>729000.0</td>\n",
       "      <td>apartment</td>\n",
       "    </tr>\n",
       "    <tr>\n",
       "      <th>1</th>\n",
       "      <td>Ashford</td>\n",
       "      <td>2017-05-08</td>\n",
       "      <td>2</td>\n",
       "      <td>699000.0</td>\n",
       "      <td>semi-detached</td>\n",
       "    </tr>\n",
       "    <tr>\n",
       "      <th>2</th>\n",
       "      <td>Stratford-on-Avon</td>\n",
       "      <td>2012-03-29</td>\n",
       "      <td>3</td>\n",
       "      <td>549875.0</td>\n",
       "      <td>detached</td>\n",
       "    </tr>\n",
       "    <tr>\n",
       "      <th>3</th>\n",
       "      <td>Canterbury</td>\n",
       "      <td>2009-01-07</td>\n",
       "      <td>2</td>\n",
       "      <td>529000.0</td>\n",
       "      <td>terrace</td>\n",
       "    </tr>\n",
       "    <tr>\n",
       "      <th>4</th>\n",
       "      <td>Camden</td>\n",
       "      <td>2001-12-16</td>\n",
       "      <td>1</td>\n",
       "      <td>616000.0</td>\n",
       "      <td>apartment</td>\n",
       "    </tr>\n",
       "    <tr>\n",
       "      <th>5</th>\n",
       "      <td>Rugby</td>\n",
       "      <td>2003-01-03</td>\n",
       "      <td>2</td>\n",
       "      <td>247000.0</td>\n",
       "      <td>detached</td>\n",
       "    </tr>\n",
       "    <tr>\n",
       "      <th>6</th>\n",
       "      <td>Hampstead</td>\n",
       "      <td>2016-05-03</td>\n",
       "      <td>2</td>\n",
       "      <td>549875.0</td>\n",
       "      <td>terrace</td>\n",
       "    </tr>\n",
       "    <tr>\n",
       "      <th>7</th>\n",
       "      <td>Clapham</td>\n",
       "      <td>2001-05-07</td>\n",
       "      <td>2</td>\n",
       "      <td>543000.0</td>\n",
       "      <td>apartment</td>\n",
       "    </tr>\n",
       "    <tr>\n",
       "      <th>8</th>\n",
       "      <td>Stratford-on-Avon</td>\n",
       "      <td>2010-05-10</td>\n",
       "      <td>3</td>\n",
       "      <td>420000.0</td>\n",
       "      <td>detached</td>\n",
       "    </tr>\n",
       "    <tr>\n",
       "      <th>9</th>\n",
       "      <td>Camden</td>\n",
       "      <td>2001-12-16</td>\n",
       "      <td>1</td>\n",
       "      <td>616000.0</td>\n",
       "      <td>apartment</td>\n",
       "    </tr>\n",
       "  </tbody>\n",
       "</table>\n",
       "</div>"
      ],
      "text/plain": [
       "            location date_of_sale  number_of_bedrooms  price_euros  \\\n",
       "0            Clapham   1999-12-04                   1     729000.0   \n",
       "1            Ashford   2017-05-08                   2     699000.0   \n",
       "2  Stratford-on-Avon   2012-03-29                   3     549875.0   \n",
       "3         Canterbury   2009-01-07                   2     529000.0   \n",
       "4             Camden   2001-12-16                   1     616000.0   \n",
       "5              Rugby   2003-01-03                   2     247000.0   \n",
       "6          Hampstead   2016-05-03                   2     549875.0   \n",
       "7            Clapham   2001-05-07                   2     543000.0   \n",
       "8  Stratford-on-Avon   2010-05-10                   3     420000.0   \n",
       "9             Camden   2001-12-16                   1     616000.0   \n",
       "\n",
       "            type  \n",
       "0      apartment  \n",
       "1  semi-detached  \n",
       "2       detached  \n",
       "3        terrace  \n",
       "4      apartment  \n",
       "5       detached  \n",
       "6        terrace  \n",
       "7      apartment  \n",
       "8       detached  \n",
       "9      apartment  "
      ]
     },
     "execution_count": 76,
     "metadata": {},
     "output_type": "execute_result"
    }
   ],
   "source": [
    "df"
   ]
  }
 ],
 "metadata": {
  "kernelspec": {
   "display_name": "Python 3 (ipykernel)",
   "language": "python",
   "name": "python3"
  },
  "language_info": {
   "codemirror_mode": {
    "name": "ipython",
    "version": 3
   },
   "file_extension": ".py",
   "mimetype": "text/x-python",
   "name": "python",
   "nbconvert_exporter": "python",
   "pygments_lexer": "ipython3",
   "version": "3.9.13"
  }
 },
 "nbformat": 4,
 "nbformat_minor": 5
}
